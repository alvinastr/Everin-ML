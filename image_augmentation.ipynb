{
 "cells": [
  {
   "cell_type": "code",
   "execution_count": 1,
   "id": "850362c8-3357-4cfb-92ff-101265235632",
   "metadata": {},
   "outputs": [],
   "source": [
    "# Import necessary libraries\n",
    "import os\n",
    "import numpy as np\n",
    "import matplotlib.pyplot as plt\n",
    "from tensorflow.keras.preprocessing.image import ImageDataGenerator, img_to_array, load_img\n",
    "from tensorflow.keras.applications import MobileNetV2\n",
    "from tensorflow.keras.applications.mobilenet_v2 import preprocess_input\n",
    "from tensorflow.keras.models import Model\n",
    "from tensorflow.image import resize\n",
    "import albumentations as A\n",
    "import cv2"
   ]
  },
  {
   "cell_type": "code",
   "execution_count": 15,
   "id": "ba67b309-4503-44fd-ab2e-ad12ac16064f",
   "metadata": {},
   "outputs": [],
   "source": [
    "dataset_path = \"data/image/raw\"\n",
    "output_path = \"data/image/processed\""
   ]
  },
  {
   "cell_type": "code",
   "execution_count": 16,
   "id": "808fe605-a84c-465b-97e4-0a4ea5c0fe80",
   "metadata": {},
   "outputs": [],
   "source": [
    "if not os.path.exists(output_path):\n",
    "    os.makedirs(output_path)"
   ]
  },
  {
   "cell_type": "code",
   "execution_count": 17,
   "id": "0477ce5a-9604-48c7-8988-4d62f5c86985",
   "metadata": {},
   "outputs": [],
   "source": [
    "datagen = ImageDataGenerator(\n",
    "    rotation_range=15,\n",
    "    zoom_range=0.2,\n",
    "    horizontal_flip=True,\n",
    "    brightness_range=[0.8, 1.2]\n",
    ")"
   ]
  },
  {
   "cell_type": "code",
   "execution_count": 13,
   "id": "65491afb-1ae8-442a-b63a-fcbb3b3b15e0",
   "metadata": {},
   "outputs": [],
   "source": [
    "os.makedirs(output_dir, exist_ok=True)"
   ]
  },
  {
   "cell_type": "code",
   "execution_count": 18,
   "id": "7bde46ae-b0c4-4b8e-a992-d43db76674fe",
   "metadata": {},
   "outputs": [
    {
     "name": "stdout",
     "output_type": "stream",
     "text": [
      "Error processing image Bayam_tumis_+_oncom.jpg: cannot identify image file <_io.BytesIO object at 0x1505593b0>\n",
      "Error processing image Ikan_kapar_segar.jpg: cannot identify image file <_io.BytesIO object at 0x15111c4a0>\n",
      "Error processing image Ikan_Bekasang.jpg: cannot identify image file <_io.BytesIO object at 0x1510fea90>\n",
      "Error processing image Toge_kedelai.jpg: cannot identify image file <_io.BytesIO object at 0x15111cea0>\n",
      "Error processing image Katul_Jagung.jpg: cannot identify image file <_io.BytesIO object at 0x15111c590>\n"
     ]
    },
    {
     "name": "stderr",
     "output_type": "stream",
     "text": [
      "/opt/anaconda3/envs/tf_ev/lib/python3.9/site-packages/PIL/Image.py:1054: UserWarning: Palette images with Transparency expressed in bytes should be converted to RGBA images\n",
      "  warnings.warn(\n"
     ]
    },
    {
     "name": "stdout",
     "output_type": "stream",
     "text": [
      "Error processing image Daun_Kumak.jpg: cannot identify image file <_io.BytesIO object at 0x151173ae0>\n",
      "Error processing image Jagung_pipil_var._harapan_kering.jpg: cannot identify image file <_io.BytesIO object at 0x15111c770>\n",
      "Error processing image Tomat_Masak.jpg: cannot identify image file <_io.BytesIO object at 0x15111c810>\n",
      "Error processing image Jagung_titi.jpg: cannot identify image file <_io.BytesIO object at 0x1545cdc20>\n",
      "Error processing image Jeruk_Garut.jpg: cannot identify image file <_io.BytesIO object at 0x15111c810>\n",
      "Error processing image .DS_Store: cannot identify image file <_io.BytesIO object at 0x1545cd9a0>\n",
      "Error processing image Tim_(nasi_tim).jpg: cannot identify image file <_io.BytesIO object at 0x1545cd540>\n",
      "Error processing image Ketimun.jpg: cannot identify image file <_io.BytesIO object at 0x1545cdae0>\n",
      "Error processing image Kemang.jpg: cannot identify image file <_io.BytesIO object at 0x1511739a0>\n",
      "Error processing image Kacang_kuning_kering.jpg: cannot identify image file <_io.BytesIO object at 0x15111c2c0>\n",
      "Error processing image Buah_Atung.jpg: cannot identify image file <_io.BytesIO object at 0x1545cc040>\n",
      "Error processing image Beras_Merah_tumbuk.jpg: cannot identify image file <_io.BytesIO object at 0x15111cf40>\n",
      "Error processing image Gulai_pliek.jpg: cannot identify image file <_io.BytesIO object at 0x15111c4a0>\n",
      "Error processing image Mie_bakso.jpg: cannot identify image file <_io.BytesIO object at 0x15111cc70>\n",
      "Error processing image Djibokum_masakan.jpg: cannot identify image file <_io.BytesIO object at 0x151173ea0>\n",
      "Error processing image Mangga_benggala_segar.jpg: cannot identify image file <_io.BytesIO object at 0x1545cd0e0>\n",
      "Error processing image Beras_Menir.jpg: cannot identify image file <_io.BytesIO object at 0x15111c360>\n",
      "Error processing image Susu_Skim_(tak_berlemak).jpg: cannot identify image file <_io.BytesIO object at 0x15111c950>\n",
      "Error processing image Oramu_ninahu_ndawa_olaho_masakan.jpg: cannot identify image file <_io.BytesIO object at 0x151173cc0>\n",
      "Error processing image Tebu_Terubuk.jpg: cannot identify image file <_io.BytesIO object at 0x15111cc20>\n",
      "Error processing image Sawi_taiwan_segar.jpg: cannot identify image file <_io.BytesIO object at 0x15111cb80>\n",
      "Error processing image Ikan_malalugis_segar.jpg: cannot identify image file <_io.BytesIO object at 0x15111cd60>\n",
      "Error processing image Brem.jpg: cannot identify image file <_io.BytesIO object at 0x15117ba40>\n",
      "Error processing image Beras_ganyong.jpg: cannot identify image file <_io.BytesIO object at 0x15117bf40>\n",
      "Error processing image Kacang_Kedelai_kukus.jpg: cannot identify image file <_io.BytesIO object at 0x15117bf40>\n",
      "Error processing image Ikan_Belut_Segar_goreng.jpg: cannot identify image file <_io.BytesIO object at 0x15117bef0>\n",
      "Error processing image Ikan_banjar_segar.jpg: cannot identify image file <_io.BytesIO object at 0x15117b770>\n",
      "Error processing image Ketela_Pohon_Kuning.jpg: cannot identify image file <_io.BytesIO object at 0x15117b680>\n",
      "Error processing image Coto_mangkasara_kuda_masakan.jpg: cannot identify image file <_io.BytesIO object at 0x15111c270>\n",
      "Error processing image Bulung_Sangu.jpg: cannot identify image file <_io.BytesIO object at 0x151135540>\n",
      "Error processing image Encung_asam_segar.jpg: cannot identify image file <_io.BytesIO object at 0x151173a40>\n",
      "Error processing image Ubi_Jalar_Sayur.jpg: cannot identify image file <_io.BytesIO object at 0x151173d60>\n",
      "Error processing image Chikiniku_masakan.jpg: cannot identify image file <_io.BytesIO object at 0x15111c450>\n",
      "Error processing image Bekasang.jpg: cannot identify image file <_io.BytesIO object at 0x15111cea0>\n",
      "Error processing image Daun_Ubi_Jalar.jpg: cannot identify image file <_io.BytesIO object at 0x15111c8b0>\n",
      "Error processing image Buah_tuppa_segar.jpg: cannot identify image file <_io.BytesIO object at 0x15117be50>\n",
      "Error processing image Ikan_turi_segar.jpg: cannot identify image file <_io.BytesIO object at 0x15111c450>\n",
      "Error processing image Pisang_rotan_segar.jpg: cannot identify image file <_io.BytesIO object at 0x15111c450>\n",
      "Error processing image Ikan_Patin_segar.jpg: cannot identify image file <_io.BytesIO object at 0x151173720>\n",
      "Error processing image Jambu_Air.jpg: cannot identify image file <_io.BytesIO object at 0x151173950>\n",
      "Error processing image Beras_hitam_mentah.jpg: cannot identify image file <_io.BytesIO object at 0x151135540>\n",
      "Error processing image Buah_Nona.jpg: cannot identify image file <_io.BytesIO object at 0x15111cef0>\n",
      "Error processing image Kacang_sukro.jpg: cannot identify image file <_io.BytesIO object at 0x151173680>\n",
      "Error processing image Kalakai.jpg: cannot identify image file <_io.BytesIO object at 0x15111cf40>\n",
      "Error processing image Pati_Singkong_(tapioka).jpg: cannot identify image file <_io.BytesIO object at 0x15117b310>\n",
      "Error processing image Ikan_tempahas_segar.jpg: cannot identify image file <_io.BytesIO object at 0x15117b310>\n",
      "Error processing image Kembang_Turi.jpg: cannot identify image file <_io.BytesIO object at 0x15117b310>\n",
      "Error processing image Jam_selai.jpg: cannot identify image file <_io.BytesIO object at 0x15111c130>\n",
      "Error processing image Kotiu_hinela_tawang_nggole.jpg: cannot identify image file <_io.BytesIO object at 0x15111cd10>\n",
      "Error processing image Ikan_Mujair_segar.jpg: cannot identify image file <_io.BytesIO object at 0x15111c9f0>\n",
      "Error processing image Ikan_sunu_segar.jpg: cannot identify image file <_io.BytesIO object at 0x15111c9f0>\n",
      "Error processing image Paku_hinela_wulelenggapaya.jpg: cannot identify image file <_io.BytesIO object at 0x151173ef0>\n",
      "Error processing image Daun_jawaw_seluang_segar.jpg: cannot identify image file <_io.BytesIO object at 0x151173ae0>\n",
      "Error processing image Terong_segar.jpg: cannot identify image file <_io.BytesIO object at 0x151173860>\n",
      "Error processing image Shabu-shabu.jpg: cannot identify image file <_io.BytesIO object at 0x151173ae0>\n",
      "Error processing image Daun_Ubi_Jalar_kukus.jpg: cannot identify image file <_io.BytesIO object at 0x15111c8b0>\n",
      "Error processing image Anak_sapi_daging_sedang_segar.jpg: cannot identify image file <_io.BytesIO object at 0x151173f90>\n",
      "Error processing image Ikan_tongkol_segar.jpg: cannot identify image file <_io.BytesIO object at 0x151173950>\n",
      "Error processing image Dodol_kedondong.jpg: cannot identify image file <_io.BytesIO object at 0x151173720>\n",
      "Error processing image Pisang_kidang_segar.jpg: cannot identify image file <_io.BytesIO object at 0x166ab6900>\n",
      "Error processing image Tepung_Tales_Beneng.jpg: cannot identify image file <_io.BytesIO object at 0x151173ae0>\n",
      "Error processing image Ketela_singkong_segar.jpg: cannot identify image file <_io.BytesIO object at 0x15111ca40>\n",
      "Error processing image Anak_sapi_daging_gemuk_segar.jpg: cannot identify image file <_io.BytesIO object at 0x15111cd60>\n",
      "Error processing image Barongko.jpg: cannot identify image file <_io.BytesIO object at 0x15111cf40>\n",
      "Error processing image Buah_kelor.jpg: cannot identify image file <_io.BytesIO object at 0x15111cd10>\n",
      "Error processing image Ikan_Layang.jpg: cannot identify image file <_io.BytesIO object at 0x15111ca40>\n",
      "Error processing image Vermicelli.jpg: cannot identify image file <_io.BytesIO object at 0x15117b6d0>\n",
      "Error processing image Ikan_selar_kuning_cue_mentah.jpg: cannot identify image file <_io.BytesIO object at 0x151173e00>\n",
      "Error processing image Emping_komak.jpg: cannot identify image file <_io.BytesIO object at 0x15111c450>\n",
      "Error processing image Buncis.jpg: cannot identify image file <_io.BytesIO object at 0x15111c590>\n",
      "Error processing image Corned_Beef.jpg: cannot identify image file <_io.BytesIO object at 0x15111ce00>\n",
      "Error processing image Tempoya.jpg: cannot identify image file <_io.BytesIO object at 0x15111cf90>\n",
      "Error processing image Batar_daan.jpg: cannot identify image file <_io.BytesIO object at 0x15111c360>\n",
      "Error processing image Bihun.jpg: cannot identify image file <_io.BytesIO object at 0x15111cbd0>\n",
      "Error processing image Ginjal_Babi.jpg: cannot identify image file <_io.BytesIO object at 0x151173f40>\n",
      "Error processing image Pepaya_Muda.jpg: cannot identify image file <_io.BytesIO object at 0x15117b9f0>\n",
      "Error processing image Susu_asam_untuk_bayi_bubuk.jpg: cannot identify image file <_io.BytesIO object at 0x15117b400>\n",
      "Error processing image Beras_Siger.jpg: cannot identify image file <_io.BytesIO object at 0x166ab6900>\n",
      "Error processing image Ikan_bulan-bulan_segar.jpg: cannot identify image file <_io.BytesIO object at 0x151173c70>\n",
      "Error processing image Daun_gunda_serang_segar.jpg: cannot identify image file <_io.BytesIO object at 0x15117b400>\n",
      "Error processing image Purundawa.jpg: cannot identify image file <_io.BytesIO object at 0x15117b540>\n",
      "Error processing image Daun_Oyong.jpg: cannot identify image file <_io.BytesIO object at 0x15117b810>\n",
      "Error processing image Gula_Merah_Tebu_belum_dimurnikan.jpg: cannot identify image file <_io.BytesIO object at 0x15111ca90>\n",
      "Error processing image Alpukat_segar.jpg: cannot identify image file <_io.BytesIO object at 0x151135540>\n",
      "Error processing image Nasi_minyak.jpg: cannot identify image file <_io.BytesIO object at 0x151173860>\n",
      "Error processing image Melinjo.jpg: cannot identify image file <_io.BytesIO object at 0x151173ea0>\n",
      "Error processing image Rebung_laut_mentah.jpg: cannot identify image file <_io.BytesIO object at 0x151173cc0>\n",
      "Error processing image Ikan_selar_segar.jpg: cannot identify image file <_io.BytesIO object at 0x151173e00>\n",
      "Error processing image Kue_Satu_.jpg: cannot identify image file <_io.BytesIO object at 0x15111cae0>\n",
      "Error processing image Ongol-ongol_.jpg: cannot identify image file <_io.BytesIO object at 0x151173a40>\n",
      "Error processing image Jukku_pallu_kaloa_masakan.jpg: cannot identify image file <_io.BytesIO object at 0x15111c310>\n",
      "Error processing image Tempe_Gembus.jpg: cannot identify image file <_io.BytesIO object at 0x15111cef0>\n",
      "Error processing image Babi_ginjal_segar.jpg: cannot identify image file <_io.BytesIO object at 0x15111c770>\n",
      "Error processing image Petis_udang_kering.jpg: cannot identify image file <_io.BytesIO object at 0x15111cdb0>\n",
      "Error processing image Oncom_Merah_Goreng_bertepung_.jpg: cannot identify image file <_io.BytesIO object at 0x1511737c0>\n"
     ]
    }
   ],
   "source": [
    "# Loop melalui semua gambar di folder\n",
    "for img_name in os.listdir(dataset_path):\n",
    "    img_path = os.path.join(dataset_path, img_name)\n",
    "    \n",
    "    # Cek apakah ini adalah file gambar\n",
    "    if os.path.isfile(img_path):\n",
    "        try:\n",
    "            # Load gambar dan ubah ke array\n",
    "            img = load_img(img_path)\n",
    "            x = img_to_array(img)\n",
    "            x = x.reshape((1,) + x.shape)\n",
    "            \n",
    "            # Buat sub-folder untuk setiap produk\n",
    "            product_folder = os.path.join(output_path, img_name.split('.')[0])\n",
    "            if not os.path.exists(product_folder):\n",
    "                os.makedirs(product_folder)\n",
    "            \n",
    "            # Augmentasi dan simpan hasil ke sub-folder\n",
    "            i = 0\n",
    "            for batch in datagen.flow(\n",
    "                x, \n",
    "                batch_size=1, \n",
    "                save_to_dir=product_folder,  # Simpan ke sub-folder\n",
    "                save_prefix=f'aug_{img_name.split(\".\")[0]}', \n",
    "                save_format='jpg'  # Format penyimpanan\n",
    "            ):\n",
    "                i += 1\n",
    "                if i > 5:  # Batasi jumlah augmentasi, misalnya buat 5 augmentasi per gambar\n",
    "                    break\n",
    "        except Exception as e:\n",
    "            print(f\"Error processing image {img_name}: {e}\")"
   ]
  },
  {
   "cell_type": "code",
   "execution_count": null,
   "id": "4226cad3-4678-432b-ae80-5e6ff39c2bed",
   "metadata": {},
   "outputs": [],
   "source": []
  }
 ],
 "metadata": {
  "kernelspec": {
   "display_name": "Python 3 (ipykernel)",
   "language": "python",
   "name": "python3"
  },
  "language_info": {
   "codemirror_mode": {
    "name": "ipython",
    "version": 3
   },
   "file_extension": ".py",
   "mimetype": "text/x-python",
   "name": "python",
   "nbconvert_exporter": "python",
   "pygments_lexer": "ipython3",
   "version": "3.9.20"
  }
 },
 "nbformat": 4,
 "nbformat_minor": 5
}
