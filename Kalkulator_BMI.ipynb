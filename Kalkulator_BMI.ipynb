{
  "cells": [
    {
      "cell_type": "markdown",
      "metadata": {
        "id": "view-in-github",
        "colab_type": "text"
      },
      "source": [
        "<a href=\"https://colab.research.google.com/github/alvinastr/Everin/blob/main/Kalkulator_BMI.ipynb\" target=\"_parent\"><img src=\"https://colab.research.google.com/assets/colab-badge.svg\" alt=\"Open In Colab\"/></a>"
      ]
    },
    {
      "cell_type": "markdown",
      "metadata": {
        "id": "zDugOV7RLVVa"
      },
      "source": [
        "# Import Dependencies"
      ]
    },
    {
      "cell_type": "code",
      "execution_count": null,
      "metadata": {
        "id": "7zPSmlnMLecR"
      },
      "outputs": [],
      "source": [
        "import numpy as np\n",
        "import pandas as pd\n",
        "import joblib\n",
        "from sklearn.neighbors import NearestNeighbors"
      ]
    },
    {
      "cell_type": "code",
      "execution_count": null,
      "metadata": {
        "colab": {
          "base_uri": "https://localhost:8080/"
        },
        "id": "Y6adRP_-7jjX",
        "outputId": "e8085462-1524-4a5b-f748-299212d6a6cd"
      },
      "outputs": [
        {
          "name": "stdout",
          "output_type": "stream",
          "text": [
            "Drive already mounted at /content/drive; to attempt to forcibly remount, call drive.mount(\"/content/drive\", force_remount=True).\n"
          ]
        }
      ],
      "source": [
        "from google.colab import drive\n",
        "drive.mount('/content/drive')"
      ]
    },
    {
      "cell_type": "markdown",
      "metadata": {
        "id": "kpOzvpHoLtq4"
      },
      "source": [
        "## Load Data"
      ]
    },
    {
      "cell_type": "code",
      "execution_count": null,
      "metadata": {
        "colab": {
          "base_uri": "https://localhost:8080/"
        },
        "id": "_TpyUegpvuYr",
        "outputId": "82fa8790-4a86-4d33-856a-1ee82517ab5b"
      },
      "outputs": [
        {
          "name": "stdout",
          "output_type": "stream",
          "text": [
            "Nama kolom setelah di-strip:\n",
            "Index(['Nama Makanan/Minuman', 'Kalori (kcal)', 'Karbohidrat (g)',\n",
            "       'Protein (g)', 'Lemak (g)'],\n",
            "      dtype='object')\n",
            "Beberapa baris pertama dari DataFrame:\n",
            "  Nama Makanan/Minuman  Kalori (kcal)  Karbohidrat (g)  Protein (g)  Lemak (g)\n",
            "0        ABC Kopi Susu             60             10.0          1.0        2.0\n",
            "1              Acaraki             50             12.0          0.0        0.0\n",
            "2                 Apel             52             14.0          0.3        0.2\n",
            "3                Bakso            150             10.0         10.0        8.0\n",
            "4        Beef Teriyaki            200             15.0         20.0        8.0\n"
          ]
        }
      ],
      "source": [
        "file_path = '/content/drive/MyDrive/data/Dataset_Makanan_dan_Minuman.csv'\n",
        "df = pd.read_csv(file_path, sep=',', encoding='latin-1')\n",
        "\n",
        "df.columns = df.columns.str.strip()\n",
        "\n",
        "print(\"Nama kolom setelah di-strip:\")\n",
        "print(df.columns)\n",
        "\n",
        "print(\"Beberapa baris pertama dari DataFrame:\")\n",
        "print(df.head())"
      ]
    },
    {
      "cell_type": "code",
      "execution_count": null,
      "metadata": {
        "colab": {
          "base_uri": "https://localhost:8080/"
        },
        "id": "T7ql9F3OAOA-",
        "outputId": "ca6c73ea-2249-43d3-e76e-b858d21a1260"
      },
      "outputs": [
        {
          "name": "stdout",
          "output_type": "stream",
          "text": [
            "Kolom 'Nama Makanan/Minuman' dan 'Kalori (kcal)' ditemukan!\n"
          ]
        }
      ],
      "source": [
        "if 'Nama Makanan/Minuman' in df.columns and 'Kalori (kcal)' in df.columns:\n",
        "    print(\"Kolom 'Nama Makanan/Minuman' dan 'Kalori (kcal)' ditemukan!\")\n",
        "else:\n",
        "    print(\"Kolom 'Nama Makanan/Minuman' atau 'Kalori (kcal)' tidak ditemukan.\")"
      ]
    },
    {
      "cell_type": "code",
      "execution_count": null,
      "metadata": {
        "colab": {
          "base_uri": "https://localhost:8080/"
        },
        "id": "ZjfssuzbA_yc",
        "outputId": "96611eba-f645-4daa-e239-7d1636f76b32"
      },
      "outputs": [
        {
          "name": "stdout",
          "output_type": "stream",
          "text": [
            "Beberapa contoh data:\n",
            "  Nama Makanan/Minuman  Kalori (kcal)\n",
            "0        ABC Kopi Susu             60\n",
            "1              Acaraki             50\n",
            "2                 Apel             52\n",
            "3                Bakso            150\n",
            "4        Beef Teriyaki            200\n"
          ]
        }
      ],
      "source": [
        "try:\n",
        "    sample_data = df[['Nama Makanan/Minuman', 'Kalori (kcal)']].head()\n",
        "    print(\"Beberapa contoh data:\")\n",
        "    print(sample_data)\n",
        "except KeyError as e:\n",
        "    print(f\"KeyError: Kolom tidak ditemukan - {e}\")"
      ]
    },
    {
      "cell_type": "markdown",
      "metadata": {
        "id": "c8DWjPo1L3zD"
      },
      "source": [
        "# Kalkulator & Model"
      ]
    },
    {
      "cell_type": "code",
      "execution_count": null,
      "metadata": {
        "colab": {
          "background_save": true,
          "base_uri": "https://localhost:8080/"
        },
        "id": "4_VVOQCQvxPO",
        "outputId": "fba6e06b-7303-46ad-8e5e-9c28e3c590b5"
      },
      "outputs": [
        {
          "metadata": {
            "tags": null
          },
          "name": "stdout",
          "output_type": "stream",
          "text": [
            "  Nama Makanan/Minuman  Kalori (kcal)  Karbohidrat (g)  Protein (g)  Lemak (g)\n",
            "0        ABC Kopi Susu             60             10.0          1.0        2.0\n",
            "1              Acaraki             50             12.0          0.0        0.0\n",
            "2                 Apel             52             14.0          0.3        0.2\n",
            "3                Bakso            150             10.0         10.0        8.0\n",
            "4        Beef Teriyaki            200             15.0         20.0        8.0\n",
            "Selamat datang di kalkulator kebutuhan kalori harian!\n"
          ]
        }
      ],
      "source": [
        "# Fungsi untuk menghitung BMR dan TDEE\n",
        "def hitung_bmr_tdee(berat_badan, tinggi_badan, umur, jenis_kelamin, tingkat_aktivitas):\n",
        "    if jenis_kelamin == 'pria':\n",
        "        bmr = 10 * berat_badan + 6.25 * tinggi_badan - 5 * umur + 5\n",
        "    else:  # wanita\n",
        "        bmr = 10 * berat_badan + 6.25 * tinggi_badan - 5 * umur - 161\n",
        "\n",
        "    if tingkat_aktivitas == \"ringan\":\n",
        "        tdee = bmr * 1.375\n",
        "    elif tingkat_aktivitas == \"sedang\":\n",
        "        tdee = bmr * 1.55\n",
        "    elif tingkat_aktivitas == \"berat\":\n",
        "        tdee = bmr * 1.725\n",
        "    else:\n",
        "        raise ValueError(\"Tingkat aktivitas tidak valid. Pilih 'ringan', 'sedang', atau 'berat'.\")\n",
        "\n",
        "    return bmr, tdee\n",
        "\n",
        "# Fungsi untuk menghitung kebutuhan makronutrien berdasarkan TDEE\n",
        "def hitung_kebutuhan_makronutrien(tdee):\n",
        "    kalori_karbohidrat = tdee * 0.55\n",
        "    kalori_protein = tdee * 0.20\n",
        "    kalori_lemak = tdee * 0.25\n",
        "\n",
        "    gram_karbohidrat = kalori_karbohidrat / 4\n",
        "    gram_protein = kalori_protein / 4\n",
        "    gram_lemak = kalori_lemak / 9\n",
        "\n",
        "    return gram_karbohidrat, gram_protein, gram_lemak\n",
        "\n",
        "# Fungsi untuk menghitung kalori per bahan makanan\n",
        "def kalori(Bahan, Gram, df):\n",
        "    try:\n",
        "        # Menemukan kalori bahan makanan\n",
        "        kalori_bahan = df.loc[df['Nama Makanan/Minuman'].str.lower() == Bahan.strip().lower(), 'Kalori (kcal)']\n",
        "        if kalori_bahan.empty:\n",
        "            raise ValueError(f\"Bahan '{Bahan}' tidak ditemukan dalam database.\")\n",
        "        kalori_bahan = kalori_bahan.iloc[0]\n",
        "        Kalori = kalori_bahan * Gram\n",
        "        return Kalori\n",
        "    except ValueError as e:\n",
        "        print(f\"Error: {e}\")\n",
        "        return 0\n",
        "\n",
        "# Fungsi untuk melatih model k-NN dan memberikan rekomendasi makanan\n",
        "def rekomendasi_makanan_ml(df, kebutuhan_karbohidrat, kebutuhan_protein, kebutuhan_lemak):\n",
        "    # Menyiapkan data untuk training\n",
        "    X = df[['Karbohidrat (g)', 'Protein (g)', 'Lemak (g)']].values  # Fitur: Karbohidrat, Protein, Lemak\n",
        "    y = df['Nama Makanan/Minuman'].values  # Target: Nama Makanan\n",
        "\n",
        "    # Menggunakan k-NN untuk menemukan makanan yang paling sesuai\n",
        "    model = NearestNeighbors(n_neighbors=5, metric='euclidean')\n",
        "    model.fit(X)\n",
        "\n",
        "    # Data input untuk prediksi\n",
        "    input_data = np.array([[kebutuhan_karbohidrat, kebutuhan_protein, kebutuhan_lemak]])\n",
        "\n",
        "    # Mencari 5 makanan terdekat berdasarkan kebutuhan makronutrien\n",
        "    distances, indices = model.kneighbors(input_data)\n",
        "\n",
        "    print(\"\\nRekomendasi makanan yang sesuai dengan kebutuhan harian Anda:\")\n",
        "    for i in indices[0]:\n",
        "        makanan = df.iloc[i]\n",
        "        print(f\"{makanan['Nama Makanan/Minuman']}: {makanan['Karbohidrat (g)']}g Karbohidrat, \"\n",
        "              f\"{makanan['Protein (g)']}g Protein, {makanan['Lemak (g)']}g Lemak\")\n",
        "\n",
        "# Fungsi utama untuk kalkulator kebutuhan harian\n",
        "def kalkulator_kebutuhan_harian(df):\n",
        "    print(\"Selamat datang di kalkulator kebutuhan kalori harian!\")\n",
        "\n",
        "    berat_badan = float(input(\"Masukkan berat badan (kg): \"))\n",
        "    tinggi_badan = float(input(\"Masukkan tinggi badan (cm): \"))\n",
        "    umur = int(input(\"Masukkan umur (tahun): \"))\n",
        "    jenis_kelamin = input(\"Masukkan jenis kelamin (pria/wanita): \").lower()\n",
        "    tingkat_aktivitas = input(\"Masukkan tingkat aktivitas (ringan/sedang/berat): \").lower()\n",
        "\n",
        "    try:\n",
        "        bmr, tdee = hitung_bmr_tdee(berat_badan, tinggi_badan, umur, jenis_kelamin, tingkat_aktivitas)\n",
        "    except ValueError as e:\n",
        "        print(f\"Error: {e}\")\n",
        "        return\n",
        "\n",
        "    print(f\"\\nBMR Anda adalah {bmr:.2f} kalori/hari.\")\n",
        "    print(f\"TDEE Anda adalah {tdee:.2f} kalori/hari.\")\n",
        "\n",
        "    gram_karbohidrat, gram_protein, gram_lemak = hitung_kebutuhan_makronutrien(tdee)\n",
        "\n",
        "    print(f\"\\nKebutuhan harian Anda adalah:\")\n",
        "    print(f\"Karbohidrat: {gram_karbohidrat:.2f} gram\")\n",
        "    print(f\"Protein: {gram_protein:.2f} gram\")\n",
        "    print(f\"Lemak: {gram_lemak:.2f} gram\")\n",
        "\n",
        "    # Input makanan yang sudah dimakan\n",
        "    total_kalori_dikonsumsi = 0\n",
        "    total_karbohidrat_dikonsumsi = 0\n",
        "    total_protein_dikonsumsi = 0\n",
        "    total_lemak_dikonsumsi = 0\n",
        "\n",
        "    while True:\n",
        "        try:\n",
        "            Bahan = str(input(\"Masukkan nama bahan makanan yang sudah Anda makan: \")).lower().strip()\n",
        "            Gram = int(input(\"Berapa berat (gram) bahan yang Anda makan? \"))\n",
        "\n",
        "            # Menghitung kalori dan makronutrien makanan yang dimakan\n",
        "            kalori_makanan = kalori(Bahan, Gram, df)\n",
        "            if kalori_makanan == 0:\n",
        "                print(f\"Bahan '{Bahan}' tidak ditemukan. Silakan coba lagi.\")\n",
        "                continue\n",
        "\n",
        "            # Mendapatkan makronutrien\n",
        "            makanan_row = df.loc[df['Nama Makanan/Minuman'].str.lower() == Bahan.strip().lower()]\n",
        "\n",
        "            karbohidrat = makanan_row['Karbohidrat (g)'].values[0] * Gram / 100\n",
        "            protein = makanan_row['Protein (g)'].values[0] * Gram / 100\n",
        "            lemak = makanan_row['Lemak (g)'].values[0] * Gram / 100\n",
        "\n",
        "            # Menambahkan konsumsi makanan ke total\n",
        "            total_kalori_dikonsumsi += kalori_makanan\n",
        "            total_karbohidrat_dikonsumsi += karbohidrat\n",
        "            total_protein_dikonsumsi += protein\n",
        "            total_lemak_dikonsumsi += lemak\n",
        "\n",
        "            print(f\"Kalori yang telah dikonsumsi dari {Bahan}: {kalori_makanan:.2f} kal\")\n",
        "            print(f\"Total kalori dikonsumsi: {total_kalori_dikonsumsi:.2f} kal\")\n",
        "            print(f\"Karbohidrat yang telah dikonsumsi: {total_karbohidrat_dikonsumsi:.2f} g\")\n",
        "            print(f\"Protein yang telah dikonsumsi: {total_protein_dikonsumsi:.2f} g\")\n",
        "            print(f\"Lemak yang telah dikonsumsi: {total_lemak_dikonsumsi:.2f} g\")\n",
        "\n",
        "            # Menghitung kebutuhan sisa setelah konsumsi\n",
        "            sisa_karbohidrat = gram_karbohidrat - total_karbohidrat_dikonsumsi\n",
        "            sisa_protein = gram_protein - total_protein_dikonsumsi\n",
        "            sisa_lemak = gram_lemak - total_lemak_dikonsumsi\n",
        "\n",
        "            print(f\"\\nSisa kebutuhan karbohidrat: {sisa_karbohidrat:.2f} gram\")\n",
        "            print(f\"Sisa kebutuhan protein: {sisa_protein:.2f} gram\")\n",
        "            print(f\"Sisa kebutuhan lemak: {sisa_lemak:.2f} gram\")\n",
        "\n",
        "            # Rekomendasi makanan berdasarkan kebutuhan yang tersisa\n",
        "            rekomendasi_makanan_ml(df, sisa_karbohidrat, sisa_protein, sisa_lemak)\n",
        "\n",
        "            # Tanya apakah ingin melanjutkan memasukkan makanan lagi\n",
        "            lanjutkan = input(\"Apakah Anda ingin memasukkan makanan lain? (y/n): \")\n",
        "            if lanjutkan.lower() != 'y':\n",
        "                break\n",
        "\n",
        "        except ValueError:\n",
        "            print(\"Input tidak valid. Harap masukkan nilai yang benar.\")\n",
        "            continue\n",
        "\n",
        "# Membaca file CSV yang berisi bahan makanan dan kalori\n",
        "file_path = '/content/drive/MyDrive/data/Dataset_Makanan_dan_Minuman.csv'\n",
        "\n",
        "# Membaca CSV menjadi DataFrame\n",
        "df = pd.read_csv(file_path, sep=',', encoding='latin-1')\n",
        "\n",
        "# Membersihkan nama kolom dari spasi atau karakter tersembunyi\n",
        "df.columns = df.columns.str.strip()\n",
        "\n",
        "# Menampilkan data yang telah dimuat untuk memastikan semuanya benar\n",
        "print(df.head())\n",
        "\n",
        "# Menjalankan kalkulator\n",
        "kalkulator_kebutuhan_harian(df)\n"
      ]
    },
    {
      "cell_type": "code",
      "execution_count": null,
      "metadata": {
        "id": "DHoe_CQBDJ9h"
      },
      "outputs": [],
      "source": [
        "import pickle\n",
        "\n",
        "# Menyimpan model ke file\n",
        "with open('model_kalkulator.pkl', 'wb') as file:\n",
        "    pickle.dump([hitung_bmr_tdee, hitung_kebutuhan_makronutrien, kalori, rekomendasi_makanan_ml], file)\n",
        "\n",
        "# Menyimpan DataFrame juga jika perlu\n",
        "df.to_csv('data_makanan.csv', index=False)"
      ]
    },
    {
      "cell_type": "code",
      "source": [],
      "metadata": {
        "id": "GSGewS95NLA2"
      },
      "execution_count": null,
      "outputs": []
    }
  ],
  "metadata": {
    "colab": {
      "provenance": [],
      "include_colab_link": true
    },
    "kernelspec": {
      "display_name": "Python 3",
      "name": "python3"
    },
    "language_info": {
      "name": "python"
    }
  },
  "nbformat": 4,
  "nbformat_minor": 0
}