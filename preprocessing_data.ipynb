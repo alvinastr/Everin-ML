{
 "cells": [
  {
   "cell_type": "markdown",
   "metadata": {
    "id": "dsbKBz-xi5Ri"
   },
   "source": [
    "# Data Preprocessing"
   ]
  },
  {
   "cell_type": "markdown",
   "metadata": {
    "id": "ftPz8pUHjG2y"
   },
   "source": [
    "## Library Installation and Imports"
   ]
  },
  {
   "cell_type": "code",
   "execution_count": 1,
   "metadata": {
    "colab": {
     "base_uri": "https://localhost:8080/"
    },
    "id": "x2dA13IGir1_",
    "outputId": "da3c1241-441d-4be2-c73a-a0c81b2e44c1"
   },
   "outputs": [
    {
     "name": "stdout",
     "output_type": "stream",
     "text": [
      "Requirement already satisfied: pandas in /opt/anaconda3/envs/everin/lib/python3.10/site-packages (2.2.2)\n",
      "Requirement already satisfied: numpy in /opt/anaconda3/envs/everin/lib/python3.10/site-packages (1.26.4)\n",
      "Requirement already satisfied: scikit-learn in /opt/anaconda3/envs/everin/lib/python3.10/site-packages (1.5.1)\n",
      "Requirement already satisfied: matplotlib in /opt/anaconda3/envs/everin/lib/python3.10/site-packages (3.9.2)\n",
      "Requirement already satisfied: seaborn in /opt/anaconda3/envs/everin/lib/python3.10/site-packages (0.13.2)\n",
      "Requirement already satisfied: scipy in /opt/anaconda3/envs/everin/lib/python3.10/site-packages (1.13.1)\n",
      "Requirement already satisfied: python-dateutil>=2.8.2 in /opt/anaconda3/envs/everin/lib/python3.10/site-packages (from pandas) (2.9.0.post0)\n",
      "Requirement already satisfied: pytz>=2020.1 in /opt/anaconda3/envs/everin/lib/python3.10/site-packages (from pandas) (2024.1)\n",
      "Requirement already satisfied: tzdata>=2022.7 in /opt/anaconda3/envs/everin/lib/python3.10/site-packages (from pandas) (2023.3)\n",
      "Requirement already satisfied: joblib>=1.2.0 in /opt/anaconda3/envs/everin/lib/python3.10/site-packages (from scikit-learn) (1.4.2)\n",
      "Requirement already satisfied: threadpoolctl>=3.1.0 in /opt/anaconda3/envs/everin/lib/python3.10/site-packages (from scikit-learn) (3.5.0)\n",
      "Requirement already satisfied: contourpy>=1.0.1 in /opt/anaconda3/envs/everin/lib/python3.10/site-packages (from matplotlib) (1.2.0)\n",
      "Requirement already satisfied: cycler>=0.10 in /opt/anaconda3/envs/everin/lib/python3.10/site-packages (from matplotlib) (0.11.0)\n",
      "Requirement already satisfied: fonttools>=4.22.0 in /opt/anaconda3/envs/everin/lib/python3.10/site-packages (from matplotlib) (4.51.0)\n",
      "Requirement already satisfied: kiwisolver>=1.3.1 in /opt/anaconda3/envs/everin/lib/python3.10/site-packages (from matplotlib) (1.4.4)\n",
      "Requirement already satisfied: packaging>=20.0 in /opt/anaconda3/envs/everin/lib/python3.10/site-packages (from matplotlib) (24.1)\n",
      "Requirement already satisfied: pillow>=8 in /opt/anaconda3/envs/everin/lib/python3.10/site-packages (from matplotlib) (10.4.0)\n",
      "Requirement already satisfied: pyparsing>=2.3.1 in /opt/anaconda3/envs/everin/lib/python3.10/site-packages (from matplotlib) (3.1.2)\n",
      "Requirement already satisfied: six>=1.5 in /opt/anaconda3/envs/everin/lib/python3.10/site-packages (from python-dateutil>=2.8.2->pandas) (1.16.0)\n"
     ]
    }
   ],
   "source": [
    "# Install necessary libraries\n",
    "!pip install pandas numpy scikit-learn matplotlib seaborn scipy"
   ]
  },
  {
   "cell_type": "code",
   "execution_count": 4,
   "metadata": {
    "id": "t9uOEHUEjQB_"
   },
   "outputs": [],
   "source": [
    "# Import essential ibraries\n",
    "import pandas as pd\n",
    "import numpy as np\n",
    "import matplotlib.pyplot as plt\n",
    "import seaborn as sns"
   ]
  },
  {
   "cell_type": "markdown",
   "metadata": {},
   "source": [
    "# Load Dataset"
   ]
  },
  {
   "cell_type": "code",
   "execution_count": 8,
   "metadata": {},
   "outputs": [],
   "source": [
    "df = pd.read_csv(\"data/raw/dataset.csv\")"
   ]
  },
  {
   "cell_type": "code",
   "execution_count": 9,
   "metadata": {},
   "outputs": [
    {
     "data": {
      "text/html": [
       "<div>\n",
       "<style scoped>\n",
       "    .dataframe tbody tr th:only-of-type {\n",
       "        vertical-align: middle;\n",
       "    }\n",
       "\n",
       "    .dataframe tbody tr th {\n",
       "        vertical-align: top;\n",
       "    }\n",
       "\n",
       "    .dataframe thead th {\n",
       "        text-align: right;\n",
       "    }\n",
       "</style>\n",
       "<table border=\"1\" class=\"dataframe\">\n",
       "  <thead>\n",
       "    <tr style=\"text-align: right;\">\n",
       "      <th></th>\n",
       "      <th>id</th>\n",
       "      <th>calories</th>\n",
       "      <th>proteins</th>\n",
       "      <th>fat</th>\n",
       "      <th>carbohydrate</th>\n",
       "      <th>name</th>\n",
       "      <th>image</th>\n",
       "    </tr>\n",
       "  </thead>\n",
       "  <tbody>\n",
       "    <tr>\n",
       "      <th>0</th>\n",
       "      <td>1</td>\n",
       "      <td>280.0</td>\n",
       "      <td>9.2</td>\n",
       "      <td>28.4</td>\n",
       "      <td>0.0</td>\n",
       "      <td>Abon</td>\n",
       "      <td>https://img-cdn.medkomtek.com/PbrY9X3ignQ8sVuj...</td>\n",
       "    </tr>\n",
       "    <tr>\n",
       "      <th>1</th>\n",
       "      <td>2</td>\n",
       "      <td>513.0</td>\n",
       "      <td>23.7</td>\n",
       "      <td>37.0</td>\n",
       "      <td>21.3</td>\n",
       "      <td>Abon haruwan</td>\n",
       "      <td>https://img-global.cpcdn.com/recipes/cbf330fbd...</td>\n",
       "    </tr>\n",
       "    <tr>\n",
       "      <th>2</th>\n",
       "      <td>3</td>\n",
       "      <td>0.0</td>\n",
       "      <td>0.0</td>\n",
       "      <td>0.2</td>\n",
       "      <td>0.0</td>\n",
       "      <td>Agar-agar</td>\n",
       "      <td>https://res.cloudinary.com/dk0z4ums3/image/upl...</td>\n",
       "    </tr>\n",
       "    <tr>\n",
       "      <th>3</th>\n",
       "      <td>4</td>\n",
       "      <td>45.0</td>\n",
       "      <td>1.1</td>\n",
       "      <td>0.4</td>\n",
       "      <td>10.8</td>\n",
       "      <td>Akar tonjong segar</td>\n",
       "      <td>https://images.tokopedia.net/img/cache/200-squ...</td>\n",
       "    </tr>\n",
       "    <tr>\n",
       "      <th>4</th>\n",
       "      <td>5</td>\n",
       "      <td>37.0</td>\n",
       "      <td>4.4</td>\n",
       "      <td>0.5</td>\n",
       "      <td>3.8</td>\n",
       "      <td>Aletoge segar</td>\n",
       "      <td>https://nilaigizi.com/assets/images/produk/pro...</td>\n",
       "    </tr>\n",
       "  </tbody>\n",
       "</table>\n",
       "</div>"
      ],
      "text/plain": [
       "   id  calories  proteins   fat  carbohydrate                name  \\\n",
       "0   1     280.0       9.2  28.4           0.0                Abon   \n",
       "1   2     513.0      23.7  37.0          21.3        Abon haruwan   \n",
       "2   3       0.0       0.0   0.2           0.0           Agar-agar   \n",
       "3   4      45.0       1.1   0.4          10.8  Akar tonjong segar   \n",
       "4   5      37.0       4.4   0.5           3.8       Aletoge segar   \n",
       "\n",
       "                                               image  \n",
       "0  https://img-cdn.medkomtek.com/PbrY9X3ignQ8sVuj...  \n",
       "1  https://img-global.cpcdn.com/recipes/cbf330fbd...  \n",
       "2  https://res.cloudinary.com/dk0z4ums3/image/upl...  \n",
       "3  https://images.tokopedia.net/img/cache/200-squ...  \n",
       "4  https://nilaigizi.com/assets/images/produk/pro...  "
      ]
     },
     "execution_count": 9,
     "metadata": {},
     "output_type": "execute_result"
    }
   ],
   "source": [
    "df.head()"
   ]
  },
  {
   "cell_type": "code",
   "execution_count": 10,
   "metadata": {},
   "outputs": [
    {
     "data": {
      "text/html": [
       "<div>\n",
       "<style scoped>\n",
       "    .dataframe tbody tr th:only-of-type {\n",
       "        vertical-align: middle;\n",
       "    }\n",
       "\n",
       "    .dataframe tbody tr th {\n",
       "        vertical-align: top;\n",
       "    }\n",
       "\n",
       "    .dataframe thead th {\n",
       "        text-align: right;\n",
       "    }\n",
       "</style>\n",
       "<table border=\"1\" class=\"dataframe\">\n",
       "  <thead>\n",
       "    <tr style=\"text-align: right;\">\n",
       "      <th></th>\n",
       "      <th>id</th>\n",
       "      <th>calories</th>\n",
       "      <th>proteins</th>\n",
       "      <th>fat</th>\n",
       "      <th>carbohydrate</th>\n",
       "      <th>name</th>\n",
       "      <th>image</th>\n",
       "    </tr>\n",
       "  </thead>\n",
       "  <tbody>\n",
       "    <tr>\n",
       "      <th>2005</th>\n",
       "      <td>660</td>\n",
       "      <td>100.0</td>\n",
       "      <td>7.0</td>\n",
       "      <td>1.5</td>\n",
       "      <td>14.00</td>\n",
       "      <td>Low fat Milk</td>\n",
       "      <td>No Image Available</td>\n",
       "    </tr>\n",
       "    <tr>\n",
       "      <th>2006</th>\n",
       "      <td>661</td>\n",
       "      <td>56.2</td>\n",
       "      <td>5.0</td>\n",
       "      <td>0.0</td>\n",
       "      <td>8.75</td>\n",
       "      <td>Yoghurt Skim Milk</td>\n",
       "      <td>No Image Available</td>\n",
       "    </tr>\n",
       "    <tr>\n",
       "      <th>2007</th>\n",
       "      <td>662</td>\n",
       "      <td>600.0</td>\n",
       "      <td>23.3</td>\n",
       "      <td>43.3</td>\n",
       "      <td>30.00</td>\n",
       "      <td>Cheezy Pizza Cashew &amp;almond</td>\n",
       "      <td>No Image Available</td>\n",
       "    </tr>\n",
       "    <tr>\n",
       "      <th>2008</th>\n",
       "      <td>663</td>\n",
       "      <td>380.0</td>\n",
       "      <td>7.0</td>\n",
       "      <td>1.0</td>\n",
       "      <td>85.00</td>\n",
       "      <td>Self Raising Flour</td>\n",
       "      <td>No Image Available</td>\n",
       "    </tr>\n",
       "    <tr>\n",
       "      <th>2009</th>\n",
       "      <td>664</td>\n",
       "      <td>288.0</td>\n",
       "      <td>2.5</td>\n",
       "      <td>16.2</td>\n",
       "      <td>30.00</td>\n",
       "      <td>Walls Oreo Ice Cream</td>\n",
       "      <td>No Image Available</td>\n",
       "    </tr>\n",
       "  </tbody>\n",
       "</table>\n",
       "</div>"
      ],
      "text/plain": [
       "       id  calories  proteins   fat  carbohydrate  \\\n",
       "2005  660     100.0       7.0   1.5         14.00   \n",
       "2006  661      56.2       5.0   0.0          8.75   \n",
       "2007  662     600.0      23.3  43.3         30.00   \n",
       "2008  663     380.0       7.0   1.0         85.00   \n",
       "2009  664     288.0       2.5  16.2         30.00   \n",
       "\n",
       "                             name               image  \n",
       "2005                 Low fat Milk  No Image Available  \n",
       "2006            Yoghurt Skim Milk  No Image Available  \n",
       "2007  Cheezy Pizza Cashew &almond  No Image Available  \n",
       "2008           Self Raising Flour  No Image Available  \n",
       "2009         Walls Oreo Ice Cream  No Image Available  "
      ]
     },
     "execution_count": 10,
     "metadata": {},
     "output_type": "execute_result"
    }
   ],
   "source": [
    "df.tail()"
   ]
  },
  {
   "cell_type": "markdown",
   "metadata": {},
   "source": [
    "# Sanity Check"
   ]
  },
  {
   "cell_type": "code",
   "execution_count": 12,
   "metadata": {},
   "outputs": [
    {
     "data": {
      "text/plain": [
       "(2010, 7)"
      ]
     },
     "execution_count": 12,
     "metadata": {},
     "output_type": "execute_result"
    }
   ],
   "source": [
    "# Shape\n",
    "df.shape"
   ]
  },
  {
   "cell_type": "code",
   "execution_count": 13,
   "metadata": {},
   "outputs": [
    {
     "name": "stdout",
     "output_type": "stream",
     "text": [
      "<class 'pandas.core.frame.DataFrame'>\n",
      "RangeIndex: 2010 entries, 0 to 2009\n",
      "Data columns (total 7 columns):\n",
      " #   Column        Non-Null Count  Dtype  \n",
      "---  ------        --------------  -----  \n",
      " 0   id            2010 non-null   int64  \n",
      " 1   calories      2010 non-null   float64\n",
      " 2   proteins      2010 non-null   float64\n",
      " 3   fat           2010 non-null   float64\n",
      " 4   carbohydrate  2010 non-null   float64\n",
      " 5   name          2010 non-null   object \n",
      " 6   image         2010 non-null   object \n",
      "dtypes: float64(4), int64(1), object(2)\n",
      "memory usage: 110.0+ KB\n"
     ]
    }
   ],
   "source": [
    "df.info()"
   ]
  },
  {
   "cell_type": "code",
   "execution_count": 14,
   "metadata": {},
   "outputs": [
    {
     "data": {
      "text/plain": [
       "id              0\n",
       "calories        0\n",
       "proteins        0\n",
       "fat             0\n",
       "carbohydrate    0\n",
       "name            0\n",
       "image           0\n",
       "dtype: int64"
      ]
     },
     "execution_count": 14,
     "metadata": {},
     "output_type": "execute_result"
    }
   ],
   "source": [
    "df.isnull().sum()"
   ]
  },
  {
   "cell_type": "code",
   "execution_count": 15,
   "metadata": {},
   "outputs": [
    {
     "data": {
      "text/plain": [
       "0"
      ]
     },
     "execution_count": 15,
     "metadata": {},
     "output_type": "execute_result"
    }
   ],
   "source": [
    "df.duplicated().sum()"
   ]
  },
  {
   "cell_type": "code",
   "execution_count": 18,
   "metadata": {},
   "outputs": [
    {
     "name": "stdout",
     "output_type": "stream",
     "text": [
      "name\n",
      "Yoghurt                              2\n",
      "Abon                                 1\n",
      "Waluh balamak                        1\n",
      "Fried noodles Mi Goreng              1\n",
      "Indo mie mi goreng instant noodle    1\n",
      "                                    ..\n",
      "Kalakai                              1\n",
      "Kakap                                1\n",
      "Kaholeo masakan                      1\n",
      "Kadada katembe                       1\n",
      "Walls Oreo Ice Cream                 1\n",
      "Name: count, Length: 2009, dtype: int64\n",
      "******************************\n",
      "image\n",
      "No Image Available                                                                                                                               202\n",
      "https://drive.google.com/file/d/1LZOGoU3M3XcPbU5_HaAZ26ybCTbiTXpT/view?usp=sharing                                                                10\n",
      "https://assets.pikiran-rakyat.com/crop/0x0:0x0/x/photo/2022/07/13/2233154868.jpg                                                                   4\n",
      "https://assets.indozone.id/content/2021/10/31/qEsgvo3/gampang-ini-cara-membuat-emping-melinjo-yang-gurih-dan-renyah30_700.jpg                      3\n",
      "https://d1vbn70lmn1nqe.cloudfront.net/prod/wp-content/uploads/2022/11/30105045/Tinggi-Protein-Ini-X-Manfaat-Ikan-Kakap-untuk-Kesehatan.jpg         2\n",
      "                                                                                                                                                ... \n",
      "https://cdns.klimg.com/merdeka.com/i/w/news/2019/10/28/1121036/540x270/7-alasan-konsumsi-kacang-hijau-baik-untuk-wanita.jpg                        1\n",
      "https://cdn.hellosehat.com/wp-content/uploads/2017/10/e3bdc474-shutterstock_1458579881.jpg?w=1200&q=75                                             1\n",
      "https://cdns.klimg.com/merdeka.com/i/w/news/2019/11/19/1126920/540x270/tips-dan-cara-membuat-sari-kacang-hijau-yang-benar-untuk-kesuburan.jpg      1\n",
      "https://cf.shopee.co.id/file/b416e2ddeda943e915e6b496b1e6bb0f                                                                                      1\n",
      "https://images.openfoodfacts.org/images/products/880/100/764/9238/front_id.3.400.jpg                                                               1\n",
      "Name: count, Length: 1770, dtype: int64\n",
      "******************************\n"
     ]
    }
   ],
   "source": [
    "for i in df.select_dtypes(include=\"object\").columns:\n",
    "    print(df[i].value_counts())\n",
    "    print(\"***\"*10)"
   ]
  },
  {
   "cell_type": "code",
   "execution_count": null,
   "metadata": {},
   "outputs": [],
   "source": []
  }
 ],
 "metadata": {
  "colab": {
   "authorship_tag": "ABX9TyOys5Mvhzkmh8pudnP6X2ZW",
   "provenance": []
  },
  "kernelspec": {
   "display_name": "Python 3 (ipykernel)",
   "language": "python",
   "name": "python3"
  },
  "language_info": {
   "codemirror_mode": {
    "name": "ipython",
    "version": 3
   },
   "file_extension": ".py",
   "mimetype": "text/x-python",
   "name": "python",
   "nbconvert_exporter": "python",
   "pygments_lexer": "ipython3",
   "version": "3.10.13"
  }
 },
 "nbformat": 4,
 "nbformat_minor": 4
}
